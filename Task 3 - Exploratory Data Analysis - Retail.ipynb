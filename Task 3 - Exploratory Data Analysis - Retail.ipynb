{
 "cells": [
  {
   "cell_type": "markdown",
   "id": "driven-radar",
   "metadata": {},
   "source": [
    "# Roshan Maur"
   ]
  },
  {
   "cell_type": "markdown",
   "id": "cross-intersection",
   "metadata": {},
   "source": [
    "# Task 3 - Exploratory Data Analysis - Retail "
   ]
  },
  {
   "cell_type": "markdown",
   "id": "corporate-generation",
   "metadata": {},
   "source": [
    "## Importing all the required libraries"
   ]
  },
  {
   "cell_type": "code",
   "execution_count": 46,
   "id": "second-trust",
   "metadata": {},
   "outputs": [],
   "source": [
    "import pandas as pd\n",
    "import numpy as np\n",
    "import matplotlib.pyplot as plt\n",
    "import seaborn as sns\n",
    "import json"
   ]
  },
  {
   "cell_type": "code",
   "execution_count": 47,
   "id": "conscious-liberty",
   "metadata": {},
   "outputs": [],
   "source": [
    "import plotly\n",
    "import plotly.io as pio\n",
    "import plotly.graph_objs as go\n",
    "import plotly.offline as pyo\n",
    "import plotly.express as px"
   ]
  },
  {
   "cell_type": "code",
   "execution_count": 3,
   "id": "canadian-employer",
   "metadata": {},
   "outputs": [],
   "source": [
    "import dash\n",
    "import dash_core_components as dcc\n",
    "import dash_html_components as html\n",
    "from dash.dependencies import Output, Input\n",
    "import dash_bootstrap_components as dbc"
   ]
  },
  {
   "cell_type": "markdown",
   "id": "complete-welding",
   "metadata": {},
   "source": [
    "## Reading and exploring the dataset"
   ]
  },
  {
   "cell_type": "code",
   "execution_count": 4,
   "id": "aging-pension",
   "metadata": {},
   "outputs": [],
   "source": [
    "df = pd.read_csv(\"./Downloads/SampleSuperstore.csv\")\n",
    "df.drop(\"Country\", axis=1, inplace=True)"
   ]
  },
  {
   "cell_type": "code",
   "execution_count": 5,
   "id": "german-jones",
   "metadata": {},
   "outputs": [
    {
     "data": {
      "text/html": [
       "<div>\n",
       "<style scoped>\n",
       "    .dataframe tbody tr th:only-of-type {\n",
       "        vertical-align: middle;\n",
       "    }\n",
       "\n",
       "    .dataframe tbody tr th {\n",
       "        vertical-align: top;\n",
       "    }\n",
       "\n",
       "    .dataframe thead th {\n",
       "        text-align: right;\n",
       "    }\n",
       "</style>\n",
       "<table border=\"1\" class=\"dataframe\">\n",
       "  <thead>\n",
       "    <tr style=\"text-align: right;\">\n",
       "      <th></th>\n",
       "      <th>Ship Mode</th>\n",
       "      <th>Segment</th>\n",
       "      <th>City</th>\n",
       "      <th>State</th>\n",
       "      <th>Postal Code</th>\n",
       "      <th>Region</th>\n",
       "      <th>Category</th>\n",
       "      <th>Sub-Category</th>\n",
       "      <th>Sales</th>\n",
       "      <th>Quantity</th>\n",
       "      <th>Discount</th>\n",
       "      <th>Profit</th>\n",
       "    </tr>\n",
       "  </thead>\n",
       "  <tbody>\n",
       "    <tr>\n",
       "      <th>0</th>\n",
       "      <td>Second Class</td>\n",
       "      <td>Consumer</td>\n",
       "      <td>Henderson</td>\n",
       "      <td>Kentucky</td>\n",
       "      <td>42420</td>\n",
       "      <td>South</td>\n",
       "      <td>Furniture</td>\n",
       "      <td>Bookcases</td>\n",
       "      <td>261.9600</td>\n",
       "      <td>2</td>\n",
       "      <td>0.00</td>\n",
       "      <td>41.9136</td>\n",
       "    </tr>\n",
       "    <tr>\n",
       "      <th>1</th>\n",
       "      <td>Second Class</td>\n",
       "      <td>Consumer</td>\n",
       "      <td>Henderson</td>\n",
       "      <td>Kentucky</td>\n",
       "      <td>42420</td>\n",
       "      <td>South</td>\n",
       "      <td>Furniture</td>\n",
       "      <td>Chairs</td>\n",
       "      <td>731.9400</td>\n",
       "      <td>3</td>\n",
       "      <td>0.00</td>\n",
       "      <td>219.5820</td>\n",
       "    </tr>\n",
       "    <tr>\n",
       "      <th>2</th>\n",
       "      <td>Second Class</td>\n",
       "      <td>Corporate</td>\n",
       "      <td>Los Angeles</td>\n",
       "      <td>California</td>\n",
       "      <td>90036</td>\n",
       "      <td>West</td>\n",
       "      <td>Office Supplies</td>\n",
       "      <td>Labels</td>\n",
       "      <td>14.6200</td>\n",
       "      <td>2</td>\n",
       "      <td>0.00</td>\n",
       "      <td>6.8714</td>\n",
       "    </tr>\n",
       "    <tr>\n",
       "      <th>3</th>\n",
       "      <td>Standard Class</td>\n",
       "      <td>Consumer</td>\n",
       "      <td>Fort Lauderdale</td>\n",
       "      <td>Florida</td>\n",
       "      <td>33311</td>\n",
       "      <td>South</td>\n",
       "      <td>Furniture</td>\n",
       "      <td>Tables</td>\n",
       "      <td>957.5775</td>\n",
       "      <td>5</td>\n",
       "      <td>0.45</td>\n",
       "      <td>-383.0310</td>\n",
       "    </tr>\n",
       "    <tr>\n",
       "      <th>4</th>\n",
       "      <td>Standard Class</td>\n",
       "      <td>Consumer</td>\n",
       "      <td>Fort Lauderdale</td>\n",
       "      <td>Florida</td>\n",
       "      <td>33311</td>\n",
       "      <td>South</td>\n",
       "      <td>Office Supplies</td>\n",
       "      <td>Storage</td>\n",
       "      <td>22.3680</td>\n",
       "      <td>2</td>\n",
       "      <td>0.20</td>\n",
       "      <td>2.5164</td>\n",
       "    </tr>\n",
       "  </tbody>\n",
       "</table>\n",
       "</div>"
      ],
      "text/plain": [
       "        Ship Mode    Segment             City       State  Postal Code Region  \\\n",
       "0    Second Class   Consumer        Henderson    Kentucky        42420  South   \n",
       "1    Second Class   Consumer        Henderson    Kentucky        42420  South   \n",
       "2    Second Class  Corporate      Los Angeles  California        90036   West   \n",
       "3  Standard Class   Consumer  Fort Lauderdale     Florida        33311  South   \n",
       "4  Standard Class   Consumer  Fort Lauderdale     Florida        33311  South   \n",
       "\n",
       "          Category Sub-Category     Sales  Quantity  Discount    Profit  \n",
       "0        Furniture    Bookcases  261.9600         2      0.00   41.9136  \n",
       "1        Furniture       Chairs  731.9400         3      0.00  219.5820  \n",
       "2  Office Supplies       Labels   14.6200         2      0.00    6.8714  \n",
       "3        Furniture       Tables  957.5775         5      0.45 -383.0310  \n",
       "4  Office Supplies      Storage   22.3680         2      0.20    2.5164  "
      ]
     },
     "execution_count": 5,
     "metadata": {},
     "output_type": "execute_result"
    }
   ],
   "source": [
    "df.head()"
   ]
  },
  {
   "cell_type": "code",
   "execution_count": 6,
   "id": "activated-force",
   "metadata": {},
   "outputs": [
    {
     "name": "stdout",
     "output_type": "stream",
     "text": [
      "<class 'pandas.core.frame.DataFrame'>\n",
      "RangeIndex: 9994 entries, 0 to 9993\n",
      "Data columns (total 12 columns):\n",
      " #   Column        Non-Null Count  Dtype  \n",
      "---  ------        --------------  -----  \n",
      " 0   Ship Mode     9994 non-null   object \n",
      " 1   Segment       9994 non-null   object \n",
      " 2   City          9994 non-null   object \n",
      " 3   State         9994 non-null   object \n",
      " 4   Postal Code   9994 non-null   int64  \n",
      " 5   Region        9994 non-null   object \n",
      " 6   Category      9994 non-null   object \n",
      " 7   Sub-Category  9994 non-null   object \n",
      " 8   Sales         9994 non-null   float64\n",
      " 9   Quantity      9994 non-null   int64  \n",
      " 10  Discount      9994 non-null   float64\n",
      " 11  Profit        9994 non-null   float64\n",
      "dtypes: float64(3), int64(2), object(7)\n",
      "memory usage: 937.1+ KB\n"
     ]
    }
   ],
   "source": [
    "df.info()"
   ]
  },
  {
   "cell_type": "code",
   "execution_count": 7,
   "id": "pending-market",
   "metadata": {},
   "outputs": [
    {
     "data": {
      "text/plain": [
       "array(['Second Class', 'Standard Class', 'First Class', 'Same Day'],\n",
       "      dtype=object)"
      ]
     },
     "execution_count": 7,
     "metadata": {},
     "output_type": "execute_result"
    }
   ],
   "source": [
    "df[\"Ship Mode\"].unique()"
   ]
  },
  {
   "cell_type": "code",
   "execution_count": 8,
   "id": "exterior-norwegian",
   "metadata": {},
   "outputs": [
    {
     "data": {
      "text/plain": [
       "array(['Consumer', 'Corporate', 'Home Office'], dtype=object)"
      ]
     },
     "execution_count": 8,
     "metadata": {},
     "output_type": "execute_result"
    }
   ],
   "source": [
    "df[\"Segment\"].unique()"
   ]
  },
  {
   "cell_type": "code",
   "execution_count": 9,
   "id": "neither-julian",
   "metadata": {},
   "outputs": [
    {
     "data": {
      "text/plain": [
       "array(['Kentucky', 'California', 'Florida', 'North Carolina',\n",
       "       'Washington', 'Texas', 'Wisconsin', 'Utah', 'Nebraska',\n",
       "       'Pennsylvania', 'Illinois', 'Minnesota', 'Michigan', 'Delaware',\n",
       "       'Indiana', 'New York', 'Arizona', 'Virginia', 'Tennessee',\n",
       "       'Alabama', 'South Carolina', 'Oregon', 'Colorado', 'Iowa', 'Ohio',\n",
       "       'Missouri', 'Oklahoma', 'New Mexico', 'Louisiana', 'Connecticut',\n",
       "       'New Jersey', 'Massachusetts', 'Georgia', 'Nevada', 'Rhode Island',\n",
       "       'Mississippi', 'Arkansas', 'Montana', 'New Hampshire', 'Maryland',\n",
       "       'District of Columbia', 'Kansas', 'Vermont', 'Maine',\n",
       "       'South Dakota', 'Idaho', 'North Dakota', 'Wyoming',\n",
       "       'West Virginia'], dtype=object)"
      ]
     },
     "execution_count": 9,
     "metadata": {},
     "output_type": "execute_result"
    }
   ],
   "source": [
    "df[\"State\"].unique()"
   ]
  },
  {
   "cell_type": "code",
   "execution_count": 10,
   "id": "dirty-boxing",
   "metadata": {},
   "outputs": [
    {
     "data": {
      "text/plain": [
       "array(['South', 'West', 'Central', 'East'], dtype=object)"
      ]
     },
     "execution_count": 10,
     "metadata": {},
     "output_type": "execute_result"
    }
   ],
   "source": [
    "df[\"Region\"].unique()"
   ]
  },
  {
   "cell_type": "code",
   "execution_count": 11,
   "id": "floppy-delicious",
   "metadata": {},
   "outputs": [
    {
     "data": {
      "text/plain": [
       "array(['Furniture', 'Office Supplies', 'Technology'], dtype=object)"
      ]
     },
     "execution_count": 11,
     "metadata": {},
     "output_type": "execute_result"
    }
   ],
   "source": [
    "df[\"Category\"].unique()"
   ]
  },
  {
   "cell_type": "code",
   "execution_count": 12,
   "id": "official-conducting",
   "metadata": {},
   "outputs": [
    {
     "data": {
      "text/plain": [
       "array(['Bookcases', 'Chairs', 'Labels', 'Tables', 'Storage',\n",
       "       'Furnishings', 'Art', 'Phones', 'Binders', 'Appliances', 'Paper',\n",
       "       'Accessories', 'Envelopes', 'Fasteners', 'Supplies', 'Machines',\n",
       "       'Copiers'], dtype=object)"
      ]
     },
     "execution_count": 12,
     "metadata": {},
     "output_type": "execute_result"
    }
   ],
   "source": [
    "df[\"Sub-Category\"].unique()"
   ]
  },
  {
   "cell_type": "code",
   "execution_count": 13,
   "id": "demonstrated-oxford",
   "metadata": {},
   "outputs": [],
   "source": [
    "df.columns = df.columns.map(lambda x: x.lower())"
   ]
  },
  {
   "cell_type": "code",
   "execution_count": null,
   "id": "configured-ridge",
   "metadata": {},
   "outputs": [],
   "source": []
  },
  {
   "cell_type": "markdown",
   "id": "military-shelter",
   "metadata": {},
   "source": [
    "## Adding abbreviations for all USA states"
   ]
  },
  {
   "cell_type": "code",
   "execution_count": 14,
   "id": "favorite-thompson",
   "metadata": {},
   "outputs": [],
   "source": [
    "usa = json.load(open(\"geojson.geojson\", \"r\"))"
   ]
  },
  {
   "cell_type": "code",
   "execution_count": 15,
   "id": "consistent-paris",
   "metadata": {},
   "outputs": [],
   "source": [
    "usa_df = pd.read_csv(\"./Downloads/List-of-US-States-master/List-of-US-States-master/states.csv\")"
   ]
  },
  {
   "cell_type": "code",
   "execution_count": 16,
   "id": "available-appeal",
   "metadata": {},
   "outputs": [],
   "source": [
    "usa_df.set_index(\"State\", inplace=True)"
   ]
  },
  {
   "cell_type": "code",
   "execution_count": 17,
   "id": "photographic-macedonia",
   "metadata": {},
   "outputs": [
    {
     "data": {
      "text/html": [
       "<div>\n",
       "<style scoped>\n",
       "    .dataframe tbody tr th:only-of-type {\n",
       "        vertical-align: middle;\n",
       "    }\n",
       "\n",
       "    .dataframe tbody tr th {\n",
       "        vertical-align: top;\n",
       "    }\n",
       "\n",
       "    .dataframe thead th {\n",
       "        text-align: right;\n",
       "    }\n",
       "</style>\n",
       "<table border=\"1\" class=\"dataframe\">\n",
       "  <thead>\n",
       "    <tr style=\"text-align: right;\">\n",
       "      <th></th>\n",
       "      <th>Abbreviation</th>\n",
       "    </tr>\n",
       "    <tr>\n",
       "      <th>State</th>\n",
       "      <th></th>\n",
       "    </tr>\n",
       "  </thead>\n",
       "  <tbody>\n",
       "    <tr>\n",
       "      <th>Alabama</th>\n",
       "      <td>AL</td>\n",
       "    </tr>\n",
       "    <tr>\n",
       "      <th>Alaska</th>\n",
       "      <td>AK</td>\n",
       "    </tr>\n",
       "    <tr>\n",
       "      <th>Arizona</th>\n",
       "      <td>AZ</td>\n",
       "    </tr>\n",
       "    <tr>\n",
       "      <th>Arkansas</th>\n",
       "      <td>AR</td>\n",
       "    </tr>\n",
       "    <tr>\n",
       "      <th>California</th>\n",
       "      <td>CA</td>\n",
       "    </tr>\n",
       "  </tbody>\n",
       "</table>\n",
       "</div>"
      ],
      "text/plain": [
       "           Abbreviation\n",
       "State                  \n",
       "Alabama              AL\n",
       "Alaska               AK\n",
       "Arizona              AZ\n",
       "Arkansas             AR\n",
       "California           CA"
      ]
     },
     "execution_count": 17,
     "metadata": {},
     "output_type": "execute_result"
    }
   ],
   "source": [
    "usa_df.head()"
   ]
  },
  {
   "cell_type": "code",
   "execution_count": 18,
   "id": "professional-asthma",
   "metadata": {},
   "outputs": [],
   "source": [
    "usa_dict = usa_df.to_dict()"
   ]
  },
  {
   "cell_type": "code",
   "execution_count": 19,
   "id": "persistent-uncle",
   "metadata": {},
   "outputs": [],
   "source": [
    "usa_dict = usa_dict[\"Abbreviation\"]"
   ]
  },
  {
   "cell_type": "code",
   "execution_count": 20,
   "id": "engaging-benjamin",
   "metadata": {},
   "outputs": [
    {
     "data": {
      "text/plain": [
       "{'Alabama': 'AL',\n",
       " 'Alaska': 'AK',\n",
       " 'Arizona': 'AZ',\n",
       " 'Arkansas': 'AR',\n",
       " 'California': 'CA',\n",
       " 'Colorado': 'CO',\n",
       " 'Connecticut': 'CT',\n",
       " 'Delaware': 'DE',\n",
       " 'District of Columbia': 'DC',\n",
       " 'Florida': 'FL',\n",
       " 'Georgia': 'GA',\n",
       " 'Hawaii': 'HI',\n",
       " 'Idaho': 'ID',\n",
       " 'Illinois': 'IL',\n",
       " 'Indiana': 'IN',\n",
       " 'Iowa': 'IA',\n",
       " 'Kansas': 'KS',\n",
       " 'Kentucky': 'KY',\n",
       " 'Louisiana': 'LA',\n",
       " 'Maine': 'ME',\n",
       " 'Montana': 'MT',\n",
       " 'Nebraska': 'NE',\n",
       " 'Nevada': 'NV',\n",
       " 'New Hampshire': 'NH',\n",
       " 'New Jersey': 'NJ',\n",
       " 'New Mexico': 'NM',\n",
       " 'New York': 'NY',\n",
       " 'North Carolina': 'NC',\n",
       " 'North Dakota': 'ND',\n",
       " 'Ohio': 'OH',\n",
       " 'Oklahoma': 'OK',\n",
       " 'Oregon': 'OR',\n",
       " 'Maryland': 'MD',\n",
       " 'Massachusetts': 'MA',\n",
       " 'Michigan': 'MI',\n",
       " 'Minnesota': 'MN',\n",
       " 'Mississippi': 'MS',\n",
       " 'Missouri': 'MO',\n",
       " 'Pennsylvania': 'PA',\n",
       " 'Rhode Island': 'RI',\n",
       " 'South Carolina': 'SC',\n",
       " 'South Dakota': 'SD',\n",
       " 'Tennessee': 'TN',\n",
       " 'Texas': 'TX',\n",
       " 'Utah': 'UT',\n",
       " 'Vermont': 'VT',\n",
       " 'Virginia': 'VA',\n",
       " 'Washington': 'WA',\n",
       " 'West Virginia': 'WV',\n",
       " 'Wisconsin': 'WI',\n",
       " 'Wyoming': 'WY'}"
      ]
     },
     "execution_count": 20,
     "metadata": {},
     "output_type": "execute_result"
    }
   ],
   "source": [
    "usa_dict"
   ]
  },
  {
   "cell_type": "code",
   "execution_count": 21,
   "id": "involved-rover",
   "metadata": {},
   "outputs": [
    {
     "data": {
      "text/plain": [
       "'AL'"
      ]
     },
     "execution_count": 21,
     "metadata": {},
     "output_type": "execute_result"
    }
   ],
   "source": [
    "usa_dict[\"Alabama\"]"
   ]
  },
  {
   "cell_type": "code",
   "execution_count": null,
   "id": "least-stationery",
   "metadata": {},
   "outputs": [],
   "source": []
  },
  {
   "cell_type": "markdown",
   "id": "internal-delaware",
   "metadata": {},
   "source": [
    "## Adding the abbreviations column to our original dataset"
   ]
  },
  {
   "cell_type": "code",
   "execution_count": 25,
   "id": "spare-transcript",
   "metadata": {},
   "outputs": [],
   "source": [
    "usa_list = []\n",
    "\n",
    "for x in df[\"state\"]:\n",
    "    for x1,y in usa_dict.items():\n",
    "        if x == x1:\n",
    "            usa_list.append(y)"
   ]
  },
  {
   "cell_type": "code",
   "execution_count": 26,
   "id": "sublime-junior",
   "metadata": {},
   "outputs": [],
   "source": [
    "df[\"code\"] = usa_list"
   ]
  },
  {
   "cell_type": "code",
   "execution_count": 27,
   "id": "efficient-adrian",
   "metadata": {},
   "outputs": [
    {
     "data": {
      "text/plain": [
       "array(['Furniture', 'Office Supplies', 'Technology'], dtype=object)"
      ]
     },
     "execution_count": 27,
     "metadata": {},
     "output_type": "execute_result"
    }
   ],
   "source": [
    "df[\"category\"].unique()"
   ]
  },
  {
   "cell_type": "code",
   "execution_count": null,
   "id": "capital-entrance",
   "metadata": {},
   "outputs": [],
   "source": []
  },
  {
   "cell_type": "markdown",
   "id": "personalized-remainder",
   "metadata": {},
   "source": [
    "## Making a new dataframe using the groupby function for further EDA"
   ]
  },
  {
   "cell_type": "code",
   "execution_count": 31,
   "id": "interim-eight",
   "metadata": {},
   "outputs": [],
   "source": [
    "new_df = df.groupby([\"state\", \"code\", \"category\"])[[\"sales\", \"quantity\", \"profit\", \"discount\"]].sum()"
   ]
  },
  {
   "cell_type": "code",
   "execution_count": 32,
   "id": "insured-prototype",
   "metadata": {},
   "outputs": [],
   "source": [
    "new_df.reset_index(inplace=True)"
   ]
  },
  {
   "cell_type": "code",
   "execution_count": 33,
   "id": "stupid-accident",
   "metadata": {},
   "outputs": [
    {
     "data": {
      "text/html": [
       "<div>\n",
       "<style scoped>\n",
       "    .dataframe tbody tr th:only-of-type {\n",
       "        vertical-align: middle;\n",
       "    }\n",
       "\n",
       "    .dataframe tbody tr th {\n",
       "        vertical-align: top;\n",
       "    }\n",
       "\n",
       "    .dataframe thead th {\n",
       "        text-align: right;\n",
       "    }\n",
       "</style>\n",
       "<table border=\"1\" class=\"dataframe\">\n",
       "  <thead>\n",
       "    <tr style=\"text-align: right;\">\n",
       "      <th></th>\n",
       "      <th>state</th>\n",
       "      <th>code</th>\n",
       "      <th>category</th>\n",
       "      <th>sales</th>\n",
       "      <th>quantity</th>\n",
       "      <th>profit</th>\n",
       "      <th>discount</th>\n",
       "    </tr>\n",
       "  </thead>\n",
       "  <tbody>\n",
       "    <tr>\n",
       "      <th>0</th>\n",
       "      <td>Alabama</td>\n",
       "      <td>AL</td>\n",
       "      <td>Furniture</td>\n",
       "      <td>6332.480</td>\n",
       "      <td>54</td>\n",
       "      <td>1231.3882</td>\n",
       "      <td>0.0</td>\n",
       "    </tr>\n",
       "    <tr>\n",
       "      <th>1</th>\n",
       "      <td>Alabama</td>\n",
       "      <td>AL</td>\n",
       "      <td>Office Supplies</td>\n",
       "      <td>4209.080</td>\n",
       "      <td>149</td>\n",
       "      <td>1257.6342</td>\n",
       "      <td>0.0</td>\n",
       "    </tr>\n",
       "    <tr>\n",
       "      <th>2</th>\n",
       "      <td>Alabama</td>\n",
       "      <td>AL</td>\n",
       "      <td>Technology</td>\n",
       "      <td>8969.080</td>\n",
       "      <td>53</td>\n",
       "      <td>3297.8029</td>\n",
       "      <td>0.0</td>\n",
       "    </tr>\n",
       "    <tr>\n",
       "      <th>3</th>\n",
       "      <td>Arizona</td>\n",
       "      <td>AZ</td>\n",
       "      <td>Furniture</td>\n",
       "      <td>13525.291</td>\n",
       "      <td>188</td>\n",
       "      <td>-2744.9228</td>\n",
       "      <td>14.0</td>\n",
       "    </tr>\n",
       "    <tr>\n",
       "      <th>4</th>\n",
       "      <td>Arizona</td>\n",
       "      <td>AZ</td>\n",
       "      <td>Office Supplies</td>\n",
       "      <td>10005.825</td>\n",
       "      <td>501</td>\n",
       "      <td>-795.5030</td>\n",
       "      <td>42.9</td>\n",
       "    </tr>\n",
       "    <tr>\n",
       "      <th>...</th>\n",
       "      <td>...</td>\n",
       "      <td>...</td>\n",
       "      <td>...</td>\n",
       "      <td>...</td>\n",
       "      <td>...</td>\n",
       "      <td>...</td>\n",
       "      <td>...</td>\n",
       "    </tr>\n",
       "    <tr>\n",
       "      <th>137</th>\n",
       "      <td>West Virginia</td>\n",
       "      <td>WV</td>\n",
       "      <td>Office Supplies</td>\n",
       "      <td>536.480</td>\n",
       "      <td>15</td>\n",
       "      <td>262.8752</td>\n",
       "      <td>0.0</td>\n",
       "    </tr>\n",
       "    <tr>\n",
       "      <th>138</th>\n",
       "      <td>Wisconsin</td>\n",
       "      <td>WI</td>\n",
       "      <td>Furniture</td>\n",
       "      <td>17256.610</td>\n",
       "      <td>144</td>\n",
       "      <td>3838.9545</td>\n",
       "      <td>0.0</td>\n",
       "    </tr>\n",
       "    <tr>\n",
       "      <th>139</th>\n",
       "      <td>Wisconsin</td>\n",
       "      <td>WI</td>\n",
       "      <td>Office Supplies</td>\n",
       "      <td>6059.840</td>\n",
       "      <td>215</td>\n",
       "      <td>1965.7762</td>\n",
       "      <td>0.0</td>\n",
       "    </tr>\n",
       "    <tr>\n",
       "      <th>140</th>\n",
       "      <td>Wisconsin</td>\n",
       "      <td>WI</td>\n",
       "      <td>Technology</td>\n",
       "      <td>8798.160</td>\n",
       "      <td>104</td>\n",
       "      <td>2597.0697</td>\n",
       "      <td>0.0</td>\n",
       "    </tr>\n",
       "    <tr>\n",
       "      <th>141</th>\n",
       "      <td>Wyoming</td>\n",
       "      <td>WY</td>\n",
       "      <td>Furniture</td>\n",
       "      <td>1603.136</td>\n",
       "      <td>4</td>\n",
       "      <td>100.1960</td>\n",
       "      <td>0.2</td>\n",
       "    </tr>\n",
       "  </tbody>\n",
       "</table>\n",
       "<p>142 rows × 7 columns</p>\n",
       "</div>"
      ],
      "text/plain": [
       "             state code         category      sales  quantity     profit  \\\n",
       "0          Alabama   AL        Furniture   6332.480        54  1231.3882   \n",
       "1          Alabama   AL  Office Supplies   4209.080       149  1257.6342   \n",
       "2          Alabama   AL       Technology   8969.080        53  3297.8029   \n",
       "3          Arizona   AZ        Furniture  13525.291       188 -2744.9228   \n",
       "4          Arizona   AZ  Office Supplies  10005.825       501  -795.5030   \n",
       "..             ...  ...              ...        ...       ...        ...   \n",
       "137  West Virginia   WV  Office Supplies    536.480        15   262.8752   \n",
       "138      Wisconsin   WI        Furniture  17256.610       144  3838.9545   \n",
       "139      Wisconsin   WI  Office Supplies   6059.840       215  1965.7762   \n",
       "140      Wisconsin   WI       Technology   8798.160       104  2597.0697   \n",
       "141        Wyoming   WY        Furniture   1603.136         4   100.1960   \n",
       "\n",
       "     discount  \n",
       "0         0.0  \n",
       "1         0.0  \n",
       "2         0.0  \n",
       "3        14.0  \n",
       "4        42.9  \n",
       "..        ...  \n",
       "137       0.0  \n",
       "138       0.0  \n",
       "139       0.0  \n",
       "140       0.0  \n",
       "141       0.2  \n",
       "\n",
       "[142 rows x 7 columns]"
      ]
     },
     "execution_count": 33,
     "metadata": {},
     "output_type": "execute_result"
    }
   ],
   "source": [
    "new_df"
   ]
  },
  {
   "cell_type": "code",
   "execution_count": null,
   "id": "twenty-liberia",
   "metadata": {},
   "outputs": [],
   "source": []
  },
  {
   "cell_type": "markdown",
   "id": "unlike-temple",
   "metadata": {},
   "source": [
    "## Creating the dashboard with the help of Dash and Plotly"
   ]
  },
  {
   "cell_type": "code",
   "execution_count": 48,
   "id": "romance-bangladesh",
   "metadata": {},
   "outputs": [],
   "source": [
    "app = dash.Dash(__name__, external_stylesheets=[dbc.themes.DARKLY])"
   ]
  },
  {
   "cell_type": "code",
   "execution_count": 49,
   "id": "distinct-reaction",
   "metadata": {},
   "outputs": [],
   "source": [
    "category = [{\"label\":\"Technology\", \"value\":\"Technology\"},\n",
    "           {\"label\":\"Office Supplies\", \"value\":\"Office Supplies\"},\n",
    "           {\"label\":\"Furniture\", \"value\":\"Furniture\"}]"
   ]
  },
  {
   "cell_type": "code",
   "execution_count": 50,
   "id": "attended-vegetable",
   "metadata": {},
   "outputs": [],
   "source": [
    "state_names = []\n",
    "\n",
    "for y in new_df[\"state\"].unique():\n",
    "    value = usa_df.loc[y, \"Abbreviation\"]\n",
    "    state_names.append({\"label\":str(y), \"value\":str(value)})"
   ]
  },
  {
   "cell_type": "code",
   "execution_count": 51,
   "id": "personal-skill",
   "metadata": {},
   "outputs": [],
   "source": [
    "something = [{\"label\":\"Profit\", \"value\":\"profit\"},\n",
    "             {\"label\":\"Number of items sold (Quantity)\", \"value\":\"quantity\"},\n",
    "            {\"label\":\"Sales\", \"value\":\"sales\"}]"
   ]
  },
  {
   "cell_type": "code",
   "execution_count": 52,
   "id": "pacific-soccer",
   "metadata": {},
   "outputs": [],
   "source": [
    "segments = [\n",
    "        {'label': 'Consumer', 'value': 'Consumer'},\n",
    "        {'label': 'Corporate', 'value': 'Corporate'},\n",
    "        {'label': 'Home Office', 'value': 'Home Office'}\n",
    "    ]"
   ]
  },
  {
   "cell_type": "code",
   "execution_count": 53,
   "id": "public-walter",
   "metadata": {},
   "outputs": [],
   "source": [
    "sub_df = df.groupby([\"category\", \"sub-category\"]).agg({\"sub-category\": \"count\"})\n",
    "sub_df.columns = [\"value_counts\"]\n",
    "sub_df.sort_values(by=\"value_counts\", ascending=False, inplace=True)\n",
    "sub_df.reset_index(inplace=True)\n",
    "figure_for_most_sold = px.bar(data_frame=sub_df, x=\"sub-category\", y=\"value_counts\", color=\"category\",\n",
    "      template=\"plotly_dark\", labels={\"value_counts\": \"Quantity of products sold\", \"sub-category\": \"Sub-Categories\"},\n",
    "      barmode=\"relative\")"
   ]
  },
  {
   "cell_type": "code",
   "execution_count": 54,
   "id": "difficult-irrigation",
   "metadata": {},
   "outputs": [],
   "source": [
    "profit_df = df.groupby([\"category\", \"sub-category\"]).agg({\"sub-category\":\"count\", \"profit\":\"sum\"})\n",
    "profit_df.columns = [\"quantity\", \"profit\"]\n",
    "profit_df.sort_values(by=[\"profit\"], ascending=False, inplace=True)\n",
    "profit_df.reset_index(inplace=True)\n",
    "figure_for_most_profit = px.scatter(profit_df, x=\"sub-category\", y=\"profit\", color=\"category\", size=\"quantity\",\n",
    "          template=\"plotly_dark\", \n",
    "        title=\"The bigger the size of the data point, the more the quantity are sold of the product\",\n",
    "          labels={\"sub-category\":\"Sub-Categories\", \"profit\":\"Profit\"})"
   ]
  },
  {
   "cell_type": "code",
   "execution_count": 55,
   "id": "conceptual-technical",
   "metadata": {},
   "outputs": [],
   "source": [
    "app.layout = html.Div([\n",
    "    html.H3([\"Task 2 - Exploratory Data Analysis - Retail\"],  style={\"textAlign\":\"center\"}),\n",
    "    html.Br(),\n",
    "    html.H4([\"Categorical-wise analysis for all USA States\"], style={\"textAlign\":\"center\"}),\n",
    "    html.Br(),\n",
    "    html.Div([\n",
    "            html.H5([\"Select any category\"], style={\"textAlign\":\"center\"}),\n",
    "            dcc.Dropdown(id=\"select_1\", options=category, value=\"Technology\", style={\"color\":\"black\"})], \n",
    "        style={\"width\":\"48%\", \"display\":\"inline-block\", \"marginRight\":\"2%\", \"marginLeft\":\"1%\"}),\n",
    "    html.Div([\n",
    "        html.H5([\"Select on what basis do you want to analyze?\"], style={\"textAlign\":\"center\"}),\n",
    "            dcc.Dropdown(id=\"select_2\", options=something, value=\"quantity\", style={\"color\":\"black\"})\n",
    "    ], style={\"width\":\"48%\", \"display\":\"inline-block\"}),\n",
    "    html.Br(),\n",
    "    html.Div([\n",
    "        dcc.Graph(id=\"choropleth\")\n",
    "    ]),\n",
    "    \n",
    "    html.Br(),\n",
    "    html.Br(),\n",
    "\n",
    "    html.H4([\"Segment-wise analysis for all categories\"], style={\"textAlign\":\"center\"}),\n",
    "    html.Br(),\n",
    "\n",
    "    html.Div([\n",
    "\n",
    "        html.H5([\"Select any Segment\"], style={\"marginLeft\":\"5%\"}),\n",
    "        dcc.RadioItems(id=\"select_4\", options=segments, value='Home Office', \n",
    "        labelStyle={'display': 'inline-block', 'cursor': 'pointer', 'margin-left':'20px'}),\n",
    "        \n",
    "        html.Div([\n",
    "            html.H5([\"Select on what basis do you want to analyze?\"], style={\"textAlign\":\"center\"}),\n",
    "            dcc.Dropdown(id=\"select_2_again\", options=something, value=\"quantity\", \n",
    "                        style={\"color\":\"black\", \"width\":\"100%\"})\n",
    "        ], style={\"display\":\"relative\", \"marginLeft\":\"224%\", \"width\":\"180%\", \"marginTop\":\"-62px\"})\n",
    "\n",
    "    ], style={\"display\":\"inline-block\"}),\n",
    "    html.Br(),\n",
    "    html.Div([\n",
    "        dcc.Graph(id=\"bar_for_segments\")\n",
    "    ]),\n",
    "\n",
    "    html.Br(),\n",
    "\n",
    "    html.Div([\n",
    "        html.H4([\"Which are the most sold products category wise?\"], style={\"textAlign\":\"center\"}),\n",
    "        dcc.Graph(id=\"most_sold\", figure=figure_for_most_sold)\n",
    "    ]),\n",
    "\n",
    "    html.Br(),\n",
    "\n",
    "    html.Div([\n",
    "        html.H4([\"Which are the most profitable products?\"], style={\"textAlign\":\"center\"}),\n",
    "        dcc.Graph(id=\"most_profit\", figure=figure_for_most_profit)\n",
    "    ]),\n",
    "\n",
    "    html.Br(),\n",
    "    html.Br(),\n",
    "\n",
    "    html.H4([\"Category-wise analysis for all over USA\"], style={\"textAlign\":\"center\"}),\n",
    "    html.Br(),\n",
    "    \n",
    "    html.Div([\n",
    "        html.H5(['Select on what basis do you want to analyze?']),\n",
    "        dcc.Dropdown(id=\"select_5\", options=something, value=\"profit\", style={\"color\":\"black\"})\n",
    "    ], style={\"width\":\"48%\", \"display\":\"inline-block\"}),\n",
    "    html.Div([\n",
    "        dcc.Graph(id=\"pie_chart\")\n",
    "    ])\n",
    "\n",
    "])"
   ]
  },
  {
   "cell_type": "code",
   "execution_count": 56,
   "id": "ordinary-lightning",
   "metadata": {},
   "outputs": [],
   "source": [
    "@app.callback(Output(\"choropleth\", \"figure\"),\n",
    "             [Input(\"select_1\", \"value\"),\n",
    "             Input(\"select_2\", \"value\")])\n",
    "def create_dynamic_choropleth(select_1, select_2):\n",
    "    \n",
    "    choro_df = new_df[(new_df[\"category\"]==select_1)]\n",
    "    title = \"{} analysis for {} category\".format(select_2, select_1)\n",
    "    data = dict(type=\"choropleth\", locations=choro_df[\"code\"], \n",
    "           locationmode=\"USA-states\", z=choro_df[select_2], \n",
    "           colorscale=\"Jet\", geojson=usa, text=choro_df[\"state\"])\n",
    "\n",
    "    layout = go.Layout(geo=dict(scope=\"usa\",  projection=dict( type='albers usa' ),\n",
    "                                showlakes=True, lakecolor='rgb(255, 255, 255)'), template=\"plotly_dark\", title=title)\n",
    "\n",
    "    fig = go.Figure(data = [data], layout=layout)\n",
    "    \n",
    "    return fig"
   ]
  },
  {
   "cell_type": "code",
   "execution_count": 57,
   "id": "choice-lithuania",
   "metadata": {},
   "outputs": [],
   "source": [
    "@app.callback(Output(\"bar_for_segments\", \"figure\"),\n",
    "             [Input(\"select_4\", \"value\"), \n",
    "             Input(\"select_2_again\", \"value\")])\n",
    "def create_bar_for_segments(select_4, select_2_again):\n",
    "    \n",
    "    variable_df = df[df[\"segment\"]==select_4]\n",
    "    var = variable_df.groupby([\"sub-category\", \"category\"])[[\"profit\", \"sales\", \"quantity\"]].sum()\n",
    "    var.reset_index(inplace=True)\n",
    "\n",
    "    fig = px.bar(var, x=\"sub-category\", y=select_2_again, color=\"category\", \n",
    "                 color_discrete_sequence=px.colors.sequential.Blackbody_r, template=\"plotly_dark\",\n",
    "                 title=\"{} in the {} segment\".format(select_2_again, select_4), \n",
    "                 labels={\"sub-category\":\"Sub-Categories\"})\n",
    "    \n",
    "    return fig"
   ]
  },
  {
   "cell_type": "code",
   "execution_count": 58,
   "id": "inside-style",
   "metadata": {},
   "outputs": [],
   "source": [
    "@app.callback(Output(\"pie_chart\", \"figure\"),\n",
    "            [Input(\"select_5\", \"value\")])\n",
    "def create_pie_chart_for_category(select_5):\n",
    "\n",
    "    pie_df = new_df.groupby([\"category\"])[[\"sales\", \"quantity\", \"profit\"]].sum()\n",
    "    pie_figure = px.pie(pie_df, values=pie_df[select_5].values.tolist(),\n",
    "                        names=[\"Furniture\", \"Office Supplies\", \"Technology\"],\n",
    "                        template=\"plotly_dark\")\n",
    "    pie_figure.update_traces(textinfo=\"label+value\", opacity=0.5, marker=dict(line=dict(color=\"white\", width=3)))\n",
    "\n",
    "    return pie_figure"
   ]
  },
  {
   "cell_type": "code",
   "execution_count": null,
   "id": "declared-homework",
   "metadata": {},
   "outputs": [
    {
     "name": "stdout",
     "output_type": "stream",
     "text": [
      "Dash is running on http://127.0.0.1:8050/\n",
      "\n",
      "Dash is running on http://127.0.0.1:8050/\n",
      "\n",
      " * Serving Flask app \"__main__\" (lazy loading)\n",
      " * Environment: production\n",
      "   WARNING: This is a development server. Do not use it in a production deployment.\n",
      "   Use a production WSGI server instead.\n",
      " * Debug mode: off\n"
     ]
    },
    {
     "name": "stderr",
     "output_type": "stream",
     "text": [
      " * Running on http://127.0.0.1:8050/ (Press CTRL+C to quit)\n",
      "127.0.0.1 - - [13/May/2021 12:10:19] \"\u001b[37mGET / HTTP/1.1\u001b[0m\" 200 -\n",
      "127.0.0.1 - - [13/May/2021 12:10:19] \"\u001b[37mGET /_dash-layout HTTP/1.1\u001b[0m\" 200 -\n",
      "127.0.0.1 - - [13/May/2021 12:10:19] \"\u001b[37mGET /_dash-dependencies HTTP/1.1\u001b[0m\" 200 -\n",
      "127.0.0.1 - - [13/May/2021 12:10:20] \"\u001b[37mPOST /_dash-update-component HTTP/1.1\u001b[0m\" 200 -\n",
      "127.0.0.1 - - [13/May/2021 12:10:20] \"\u001b[37mPOST /_dash-update-component HTTP/1.1\u001b[0m\" 200 -\n",
      "127.0.0.1 - - [13/May/2021 12:10:21] \"\u001b[37mPOST /_dash-update-component HTTP/1.1\u001b[0m\" 200 -\n",
      "127.0.0.1 - - [13/May/2021 12:10:28] \"\u001b[37mPOST /_dash-update-component HTTP/1.1\u001b[0m\" 200 -\n",
      "127.0.0.1 - - [13/May/2021 12:10:31] \"\u001b[37mPOST /_dash-update-component HTTP/1.1\u001b[0m\" 200 -\n",
      "127.0.0.1 - - [13/May/2021 12:10:36] \"\u001b[37mPOST /_dash-update-component HTTP/1.1\u001b[0m\" 200 -\n",
      "127.0.0.1 - - [13/May/2021 12:10:39] \"\u001b[37mPOST /_dash-update-component HTTP/1.1\u001b[0m\" 200 -\n",
      "127.0.0.1 - - [13/May/2021 12:10:50] \"\u001b[37mPOST /_dash-update-component HTTP/1.1\u001b[0m\" 200 -\n",
      "127.0.0.1 - - [13/May/2021 12:10:52] \"\u001b[37mPOST /_dash-update-component HTTP/1.1\u001b[0m\" 200 -\n",
      "127.0.0.1 - - [13/May/2021 12:10:55] \"\u001b[37mPOST /_dash-update-component HTTP/1.1\u001b[0m\" 200 -\n",
      "127.0.0.1 - - [13/May/2021 12:10:58] \"\u001b[37mPOST /_dash-update-component HTTP/1.1\u001b[0m\" 200 -\n",
      "127.0.0.1 - - [13/May/2021 12:11:29] \"\u001b[37mPOST /_dash-update-component HTTP/1.1\u001b[0m\" 200 -\n",
      "127.0.0.1 - - [13/May/2021 12:11:33] \"\u001b[37mPOST /_dash-update-component HTTP/1.1\u001b[0m\" 200 -\n",
      "127.0.0.1 - - [13/May/2021 12:11:36] \"\u001b[37mPOST /_dash-update-component HTTP/1.1\u001b[0m\" 200 -\n"
     ]
    }
   ],
   "source": [
    "if __name__ == \"__main__\":\n",
    "    app.run_server()"
   ]
  },
  {
   "cell_type": "code",
   "execution_count": null,
   "id": "conceptual-strain",
   "metadata": {},
   "outputs": [],
   "source": []
  }
 ],
 "metadata": {
  "kernelspec": {
   "display_name": "Python 3",
   "language": "python",
   "name": "python3"
  },
  "language_info": {
   "codemirror_mode": {
    "name": "ipython",
    "version": 3
   },
   "file_extension": ".py",
   "mimetype": "text/x-python",
   "name": "python",
   "nbconvert_exporter": "python",
   "pygments_lexer": "ipython3",
   "version": "3.7.9"
  }
 },
 "nbformat": 4,
 "nbformat_minor": 5
}
